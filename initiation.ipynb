{
 "cells": [
  {
   "attachments": {},
   "cell_type": "markdown",
   "metadata": {},
   "source": [
    "### Import Library"
   ]
  },
  {
   "cell_type": "code",
   "execution_count": 18,
   "metadata": {},
   "outputs": [],
   "source": [
    "import psycopg2\n",
    "import pandas as pd"
   ]
  },
  {
   "attachments": {},
   "cell_type": "markdown",
   "metadata": {},
   "source": [
    "### Create Connection"
   ]
  },
  {
   "cell_type": "code",
   "execution_count": 19,
   "metadata": {},
   "outputs": [
    {
     "name": "stdout",
     "output_type": "stream",
     "text": [
      "Koneksi berhasil!\n"
     ]
    }
   ],
   "source": [
    "conn = psycopg2.connect(\n",
    "    dbname=\"postgres\",\n",
    "    user=\"postgres\",\n",
    "    password=\"postgres\",\n",
    "    host=\"localhost\",\n",
    "    port=\"5432\"\n",
    ")\n",
    "\n",
    "try:\n",
    "    conn = psycopg2.connect(**conn_params)\n",
    "    print(\"Koneksi berhasil!\")\n",
    "except Exception as e:\n",
    "    print(f\"Gagal menghubungkan ke PostgreSQL: {e}\")\n",
    "    exit()"
   ]
  },
  {
   "attachments": {},
   "cell_type": "markdown",
   "metadata": {},
   "source": [
    "### Get First Data"
   ]
  },
  {
   "cell_type": "code",
   "execution_count": 20,
   "metadata": {},
   "outputs": [
    {
     "data": {
      "text/html": [
       "<pre style=\"white-space:pre;overflow-x:auto;line-height:normal;font-family:Menlo,'DejaVu Sans Mono',consolas,'Courier New',monospace\"><span style=\"color: #808000; text-decoration-color: #808000; font-weight: bold\">/var/folders/9x/1js3j_ln7z58ryhycc3pnpfh0000gn/T/ipykernel_48756/3689384491.py:</span><span style=\"color: #808000; text-decoration-color: #808000; font-weight: bold\">3</span><span style=\"color: #808000; text-decoration-color: #808000; font-weight: bold\"> UserWarning</span><span style=\"color: #808000; text-decoration-color: #808000\">: pandas only supports SQLAlchemy connectable </span><span style=\"color: #808000; text-decoration-color: #808000; font-weight: bold\">(</span><span style=\"color: #808000; text-decoration-color: #808000\">engine/connection</span><span style=\"color: #808000; text-decoration-color: #808000; font-weight: bold\">)</span><span style=\"color: #808000; text-decoration-color: #808000\"> or database string URI or sqlite3 DBAPI2 connection. Other DBAPI2 objects are not tested. Please consider using SQLAlchemy.</span>\n",
       "</pre>\n"
      ],
      "text/plain": [
       "\u001b[1;33m/var/folders/9x/1js3j_ln7z58ryhycc3pnpfh0000gn/T/ipykernel_48756/\u001b[0m\u001b[1;33m3689384491.py\u001b[0m\u001b[1;33m:\u001b[0m\u001b[1;33m3\u001b[0m\u001b[1;33m UserWarning\u001b[0m\u001b[33m: pandas only supports SQLAlchemy connectable \u001b[0m\u001b[1;33m(\u001b[0m\u001b[33mengine/connection\u001b[0m\u001b[1;33m)\u001b[0m\u001b[33m or database string URI or sqlite3 DBAPI2 connection. Other DBAPI2 objects are not tested. Please consider using SQLAlchemy.\u001b[0m\n"
      ]
     },
     "metadata": {},
     "output_type": "display_data"
    },
    {
     "name": "stdout",
     "output_type": "stream",
     "text": [
      "                                               title  rating  voters  \\\n",
      "0  Harlequin: Pernikahan Musim Dingin (A Winter W...     0.0       0   \n",
      "1                                     Dying To Be Me     0.0       0   \n",
      "2                                       Releases ...     0.0       0   \n",
      "3                           9 November ( November 9)     0.0       0   \n",
      "4                     Petualangan Jack & Piggy Natal     0.0       0   \n",
      "\n",
      "                   timestamp  \n",
      "0 2024-11-23 16:19:32.414146  \n",
      "1 2024-11-23 16:19:32.414146  \n",
      "2 2024-11-23 16:19:32.414146  \n",
      "3 2024-11-23 16:19:32.414146  \n",
      "4 2024-11-23 16:19:32.414146  \n"
     ]
    }
   ],
   "source": [
    "# Membaca data dari tabel Google Books\n",
    "query = \"SELECT * FROM google_books\"\n",
    "google_books_df = pd.read_sql(query, conn)\n",
    "\n",
    "# Melihat data yang diambil\n",
    "print(google_books_df.head())"
   ]
  },
  {
   "attachments": {},
   "cell_type": "markdown",
   "metadata": {},
   "source": [
    "### Load first data to csv "
   ]
  },
  {
   "cell_type": "code",
   "execution_count": 21,
   "metadata": {},
   "outputs": [],
   "source": [
    "# Menyimpan data google_books ke CSV\n",
    "google_books_df.to_csv(\"data/google_books.csv\", index=False)"
   ]
  },
  {
   "attachments": {},
   "cell_type": "markdown",
   "metadata": {},
   "source": [
    "### Get second data"
   ]
  },
  {
   "cell_type": "code",
   "execution_count": 22,
   "metadata": {},
   "outputs": [
    {
     "data": {
      "text/html": [
       "<pre style=\"white-space:pre;overflow-x:auto;line-height:normal;font-family:Menlo,'DejaVu Sans Mono',consolas,'Courier New',monospace\"><span style=\"color: #808000; text-decoration-color: #808000; font-weight: bold\">/var/folders/9x/1js3j_ln7z58ryhycc3pnpfh0000gn/T/ipykernel_48756/3097227058.py:</span><span style=\"color: #808000; text-decoration-color: #808000; font-weight: bold\">3</span><span style=\"color: #808000; text-decoration-color: #808000; font-weight: bold\"> UserWarning</span><span style=\"color: #808000; text-decoration-color: #808000\">: pandas only supports SQLAlchemy connectable </span><span style=\"color: #808000; text-decoration-color: #808000; font-weight: bold\">(</span><span style=\"color: #808000; text-decoration-color: #808000\">engine/connection</span><span style=\"color: #808000; text-decoration-color: #808000; font-weight: bold\">)</span><span style=\"color: #808000; text-decoration-color: #808000\"> or database string URI or sqlite3 DBAPI2 connection. Other DBAPI2 objects are not tested. Please consider using SQLAlchemy.</span>\n",
       "</pre>\n"
      ],
      "text/plain": [
       "\u001b[1;33m/var/folders/9x/1js3j_ln7z58ryhycc3pnpfh0000gn/T/ipykernel_48756/\u001b[0m\u001b[1;33m3097227058.py\u001b[0m\u001b[1;33m:\u001b[0m\u001b[1;33m3\u001b[0m\u001b[1;33m UserWarning\u001b[0m\u001b[33m: pandas only supports SQLAlchemy connectable \u001b[0m\u001b[1;33m(\u001b[0m\u001b[33mengine/connection\u001b[0m\u001b[1;33m)\u001b[0m\u001b[33m or database string URI or sqlite3 DBAPI2 connection. Other DBAPI2 objects are not tested. Please consider using SQLAlchemy.\u001b[0m\n"
      ]
     },
     "metadata": {},
     "output_type": "display_data"
    },
    {
     "name": "stdout",
     "output_type": "stream",
     "text": [
      "                       title  rating  ratings_count                  timestamp\n",
      "0    Don'T Let The Forest In    4.22           3247 2024-11-23 15:46:51.753419\n",
      "1              The Blue Hour    3.27           6294 2024-11-23 15:46:51.753419\n",
      "2               The Bog Wife    3.65           2477 2024-11-23 15:46:51.753419\n",
      "3  Bloodguard (Old Erth, #1)    3.67           3018 2024-11-23 15:46:51.753419\n",
      "4         Killer House Party    3.27            357 2024-11-23 15:46:51.753419\n"
     ]
    }
   ],
   "source": [
    "# Membaca data dari tabel Goodreads Books\n",
    "query = \"SELECT * FROM goodreads_books\"\n",
    "goodreads_books_df = pd.read_sql(query, conn)\n",
    "\n",
    "# Menutup koneksi\n",
    "conn.close()\n",
    "\n",
    "# Melihat data yang diambil\n",
    "print(goodreads_books_df.head())"
   ]
  },
  {
   "attachments": {},
   "cell_type": "markdown",
   "metadata": {},
   "source": [
    "### Load second data to csv"
   ]
  },
  {
   "cell_type": "code",
   "execution_count": 23,
   "metadata": {},
   "outputs": [],
   "source": [
    "# Menyimpan data goodreads_books ke CSV\n",
    "goodreads_books_df.to_csv(\"data/goodreads_books.csv\", index=False)"
   ]
  }
 ],
 "metadata": {
  "kernelspec": {
   "display_name": "Python 3",
   "language": "python",
   "name": "python3"
  },
  "language_info": {
   "codemirror_mode": {
    "name": "ipython",
    "version": 3
   },
   "file_extension": ".py",
   "mimetype": "text/x-python",
   "name": "python",
   "nbconvert_exporter": "python",
   "pygments_lexer": "ipython3",
   "version": "3.11.9"
  },
  "orig_nbformat": 4
 },
 "nbformat": 4,
 "nbformat_minor": 2
}
